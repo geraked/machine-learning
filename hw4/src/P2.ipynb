{
 "cells": [
  {
   "cell_type": "code",
   "execution_count": 115,
   "metadata": {},
   "outputs": [],
   "source": [
    "import pandas as pd\n",
    "import numpy as np\n",
    "\n",
    "import warnings\n",
    "warnings.filterwarnings('ignore')"
   ]
  },
  {
   "cell_type": "code",
   "execution_count": 116,
   "metadata": {},
   "outputs": [],
   "source": [
    "from sklearn.datasets import load_iris\n",
    "from sklearn.model_selection import train_test_split\n",
    "from sklearn.metrics import classification_report\n",
    "from sklearn.svm import SVC\n",
    "\n",
    "\n",
    "X, y = load_iris(return_X_y=True)\n",
    "X_train, X_test, y_train, y_test = train_test_split(\n",
    "    X, y, train_size=0.8, random_state=2)\n",
    "\n",
    "\n",
    "def eval(kernel, title):\n",
    "    print(f'Results for {title} Kernel:')\n",
    "    mdl = SVC(kernel=kernel)\n",
    "    mdl.fit(X_train, y_train)\n",
    "    y_pred = mdl.predict(X_test)\n",
    "    print(classification_report(y_test, y_pred))\n"
   ]
  },
  {
   "cell_type": "code",
   "execution_count": 117,
   "metadata": {},
   "outputs": [],
   "source": [
    "def k1(x, z, gamma=1):\n",
    "    \"\"\"RBF Kernel\"\"\"\n",
    "    return np.exp(-gamma * np.linalg.norm(x - z))\n",
    "\n",
    "\n",
    "def k2(x, z, gamma=1, coef0=0):\n",
    "    \"\"\"Sigmoid Kernel\"\"\"\n",
    "    return np.tanh(gamma * np.dot(x, z) + coef0)\n",
    "\n",
    "\n",
    "def kernel(K):\n",
    "    def proxy_kernel(X, Z, K=K):\n",
    "        gram_matrix = np.zeros((X.shape[0], Z.shape[0]))\n",
    "        for i, x in enumerate(X):\n",
    "            for j, y in enumerate(Z):\n",
    "                gram_matrix[i, j] = K(x, y)\n",
    "        return gram_matrix\n",
    "    return proxy_kernel\n"
   ]
  },
  {
   "cell_type": "code",
   "execution_count": 118,
   "metadata": {},
   "outputs": [
    {
     "name": "stdout",
     "output_type": "stream",
     "text": [
      "Results for K1 (RBF) Kernel:\n",
      "              precision    recall  f1-score   support\n",
      "\n",
      "           0       1.00      1.00      1.00        14\n",
      "           1       1.00      0.88      0.93         8\n",
      "           2       0.89      1.00      0.94         8\n",
      "\n",
      "    accuracy                           0.97        30\n",
      "   macro avg       0.96      0.96      0.96        30\n",
      "weighted avg       0.97      0.97      0.97        30\n",
      "\n"
     ]
    }
   ],
   "source": [
    "eval(kernel=kernel(k1), title=\"K1 (RBF)\")"
   ]
  },
  {
   "cell_type": "code",
   "execution_count": 119,
   "metadata": {},
   "outputs": [
    {
     "name": "stdout",
     "output_type": "stream",
     "text": [
      "Results for K2 (Sigmoid) Kernel:\n",
      "              precision    recall  f1-score   support\n",
      "\n",
      "           0       0.00      0.00      0.00        14\n",
      "           1       0.00      0.00      0.00         8\n",
      "           2       0.27      1.00      0.42         8\n",
      "\n",
      "    accuracy                           0.27        30\n",
      "   macro avg       0.09      0.33      0.14        30\n",
      "weighted avg       0.07      0.27      0.11        30\n",
      "\n"
     ]
    }
   ],
   "source": [
    "eval(kernel=kernel(k2), title=\"K2 (Sigmoid)\")"
   ]
  },
  {
   "cell_type": "code",
   "execution_count": 120,
   "metadata": {},
   "outputs": [
    {
     "name": "stdout",
     "output_type": "stream",
     "text": [
      "Results for 'K1(gamma=0.0019) + K1(gamma=0.004)' Kernel:\n",
      "              precision    recall  f1-score   support\n",
      "\n",
      "           0       1.00      0.93      0.96        14\n",
      "           1       0.88      0.88      0.88         8\n",
      "           2       0.89      1.00      0.94         8\n",
      "\n",
      "    accuracy                           0.93        30\n",
      "   macro avg       0.92      0.93      0.93        30\n",
      "weighted avg       0.94      0.93      0.93        30\n",
      "\n"
     ]
    }
   ],
   "source": [
    "def custom1(x, z):\n",
    "    return k1(x, z, gamma=0.0019) + k1(x, z, gamma=0.004)\n",
    "\n",
    "\n",
    "eval(kernel=kernel(custom1), title=\"'K1(gamma=0.0019) + K1(gamma=0.004)'\")"
   ]
  },
  {
   "cell_type": "code",
   "execution_count": 121,
   "metadata": {},
   "outputs": [
    {
     "name": "stdout",
     "output_type": "stream",
     "text": [
      "Results for 'K2(gamma=0.005, coef0=0) * K2(gamma=0.01, coef0=0.1)' Kernel:\n",
      "              precision    recall  f1-score   support\n",
      "\n",
      "           0       1.00      1.00      1.00        14\n",
      "           1       1.00      0.62      0.77         8\n",
      "           2       0.73      1.00      0.84         8\n",
      "\n",
      "    accuracy                           0.90        30\n",
      "   macro avg       0.91      0.88      0.87        30\n",
      "weighted avg       0.93      0.90      0.90        30\n",
      "\n"
     ]
    }
   ],
   "source": [
    "def custom2(x, z):\n",
    "    return k2(x, z, gamma=0.005, coef0=0) + k2(x, z, gamma=0.01, coef0=0.1)\n",
    "\n",
    "\n",
    "eval(kernel=kernel(custom2), title=\"'K2(gamma=0.005, coef0=0) * K2(gamma=0.01, coef0=0.1)'\")"
   ]
  }
 ],
 "metadata": {
  "kernelspec": {
   "display_name": "Python 3.10.2 64-bit",
   "language": "python",
   "name": "python3"
  },
  "language_info": {
   "codemirror_mode": {
    "name": "ipython",
    "version": 3
   },
   "file_extension": ".py",
   "mimetype": "text/x-python",
   "name": "python",
   "nbconvert_exporter": "python",
   "pygments_lexer": "ipython3",
   "version": "3.10.2"
  },
  "orig_nbformat": 4,
  "vscode": {
   "interpreter": {
    "hash": "2b324498af64d22b4773901be112d66dec816013b7f64fed368c8550f7daba2d"
   }
  }
 },
 "nbformat": 4,
 "nbformat_minor": 2
}
